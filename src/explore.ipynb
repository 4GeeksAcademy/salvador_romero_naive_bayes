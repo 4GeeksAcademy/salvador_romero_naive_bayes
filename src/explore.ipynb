{
    "cells": [
        {
            "cell_type": "markdown",
            "metadata": {},
            "source": [
                "# Explore here"
            ]
        },
        {
            "cell_type": "code",
            "execution_count": 35,
            "metadata": {},
            "outputs": [
                {
                    "name": "stdout",
                    "output_type": "stream",
                    "text": [
                        "<class 'pandas.core.frame.DataFrame'>\n",
                        "RangeIndex: 891 entries, 0 to 890\n",
                        "Data columns (total 3 columns):\n",
                        " #   Column        Non-Null Count  Dtype \n",
                        "---  ------        --------------  ----- \n",
                        " 0   package_name  891 non-null    object\n",
                        " 1   review        891 non-null    object\n",
                        " 2   polarity      891 non-null    int64 \n",
                        "dtypes: int64(1), object(2)\n",
                        "memory usage: 21.0+ KB\n"
                    ]
                }
            ],
            "source": [
                "# Your code here\n",
                "import pandas as pd\n",
                "data = pd.read_csv(\"https://raw.githubusercontent.com/4GeeksAcademy/naive-bayes-project-tutorial/main/playstore_reviews.csv\")\n",
                "data_uniques = data.drop_duplicates()\n",
                "data_uniques.info()"
            ]
        },
        {
            "cell_type": "code",
            "execution_count": null,
            "metadata": {},
            "outputs": [],
            "source": [
                "data.to_csv(\"../data/raw/data.csv\",index=False)"
            ]
        },
        {
            "cell_type": "code",
            "execution_count": 36,
            "metadata": {},
            "outputs": [
                {
                    "data": {
                        "text/html": [
                            "<div>\n",
                            "<style scoped>\n",
                            "    .dataframe tbody tr th:only-of-type {\n",
                            "        vertical-align: middle;\n",
                            "    }\n",
                            "\n",
                            "    .dataframe tbody tr th {\n",
                            "        vertical-align: top;\n",
                            "    }\n",
                            "\n",
                            "    .dataframe thead th {\n",
                            "        text-align: right;\n",
                            "    }\n",
                            "</style>\n",
                            "<table border=\"1\" class=\"dataframe\">\n",
                            "  <thead>\n",
                            "    <tr style=\"text-align: right;\">\n",
                            "      <th></th>\n",
                            "      <th>package_name</th>\n",
                            "      <th>review</th>\n",
                            "      <th>polarity</th>\n",
                            "    </tr>\n",
                            "  </thead>\n",
                            "  <tbody>\n",
                            "    <tr>\n",
                            "      <th>0</th>\n",
                            "      <td>com.facebook.katana</td>\n",
                            "      <td>privacy at least put some option appear offlin...</td>\n",
                            "      <td>0</td>\n",
                            "    </tr>\n",
                            "    <tr>\n",
                            "      <th>1</th>\n",
                            "      <td>com.facebook.katana</td>\n",
                            "      <td>messenger issues ever since the last update, i...</td>\n",
                            "      <td>0</td>\n",
                            "    </tr>\n",
                            "    <tr>\n",
                            "      <th>2</th>\n",
                            "      <td>com.facebook.katana</td>\n",
                            "      <td>profile any time my wife or anybody has more t...</td>\n",
                            "      <td>0</td>\n",
                            "    </tr>\n",
                            "    <tr>\n",
                            "      <th>3</th>\n",
                            "      <td>com.facebook.katana</td>\n",
                            "      <td>the new features suck for those of us who don'...</td>\n",
                            "      <td>0</td>\n",
                            "    </tr>\n",
                            "    <tr>\n",
                            "      <th>4</th>\n",
                            "      <td>com.facebook.katana</td>\n",
                            "      <td>forced reload on uploading pic on replying com...</td>\n",
                            "      <td>0</td>\n",
                            "    </tr>\n",
                            "  </tbody>\n",
                            "</table>\n",
                            "</div>"
                        ],
                        "text/plain": [
                            "          package_name                                             review  \\\n",
                            "0  com.facebook.katana  privacy at least put some option appear offlin...   \n",
                            "1  com.facebook.katana  messenger issues ever since the last update, i...   \n",
                            "2  com.facebook.katana  profile any time my wife or anybody has more t...   \n",
                            "3  com.facebook.katana  the new features suck for those of us who don'...   \n",
                            "4  com.facebook.katana  forced reload on uploading pic on replying com...   \n",
                            "\n",
                            "   polarity  \n",
                            "0         0  \n",
                            "1         0  \n",
                            "2         0  \n",
                            "3         0  \n",
                            "4         0  "
                        ]
                    },
                    "execution_count": 36,
                    "metadata": {},
                    "output_type": "execute_result"
                }
            ],
            "source": [
                "data_uniques[\"review\"] = data_uniques[\"review\"].fillna(\"\").astype(str).str.strip().str.lower()\n",
                "data_uniques.head()"
            ]
        },
        {
            "cell_type": "code",
            "execution_count": 40,
            "metadata": {},
            "outputs": [
                {
                    "name": "stdout",
                    "output_type": "stream",
                    "text": [
                        "Score multinomial train: 0.9640718562874252\n",
                        "Score multinomial test: 0.8430493273542601\n"
                    ]
                }
            ],
            "source": [
                "from sklearn.feature_extraction.text import CountVectorizer\n",
                "from sklearn.model_selection import train_test_split\n",
                "from sklearn.naive_bayes import MultinomialNB,GaussianNB,BernoulliNB\n",
                "from sklearn.metrics import accuracy_score\n",
                "vectorizer = CountVectorizer()\n",
                "X = vectorizer.fit_transform(data_uniques[\"review\"])\n",
                "x_train, x_test, y_train, y_test = train_test_split(X,data_uniques[\"polarity\"],random_state=8)\n",
                "\n",
                "mult_model = MultinomialNB()\n",
                "mult_model.fit(x_train,y_train)\n",
                "y_pred = mult_model.predict(x_test)\n",
                "y_ptrain = mult_model.predict(x_train)\n",
                "\n",
                "score_train = accuracy_score(y_train,y_ptrain)\n",
                "score_test = accuracy_score(y_test, y_pred)\n",
                "\n",
                "print(f\"Score multinomial train: {score_train}\")\n",
                "print(f\"Score multinomial test: {score_test}\")\n"
            ]
        },
        {
            "cell_type": "code",
            "execution_count": 53,
            "metadata": {},
            "outputs": [
                {
                    "name": "stdout",
                    "output_type": "stream",
                    "text": [
                        "Score multinomial train: 1.0\n",
                        "Score multinomial test: 0.7937219730941704\n"
                    ]
                }
            ],
            "source": [
                "\n",
                "from sklearn.ensemble import RandomForestClassifier\n",
                "mult_model = RandomForestClassifier()\n",
                "mult_model.fit(x_train,y_train)\n",
                "y_pred = mult_model.predict(x_test)\n",
                "y_ptrain = mult_model.predict(x_train)\n",
                "\n",
                "score_train = accuracy_score(y_train,y_ptrain)\n",
                "score_test = accuracy_score(y_test, y_pred)\n",
                "\n",
                "print(f\"Score multinomial train: {score_train}\")\n",
                "print(f\"Score multinomial test: {score_test}\")"
            ]
        },
        {
            "cell_type": "markdown",
            "metadata": {},
            "source": [
                "Para un arbol de decisión se le puede quedar grande la cantidad de palabras que deben procesar por lo que llevan al overfitting."
            ]
        },
        {
            "cell_type": "code",
            "execution_count": 43,
            "metadata": {},
            "outputs": [],
            "source": [
                "from pickle import dump\n",
                "\n",
                "dump(mult_model, open(\"../models/naive_bayes_mult.sav\", \"wb\"))"
            ]
        }
    ],
    "metadata": {
        "kernelspec": {
            "display_name": "Python 3",
            "language": "python",
            "name": "python3"
        },
        "language_info": {
            "codemirror_mode": {
                "name": "ipython",
                "version": 3
            },
            "file_extension": ".py",
            "mimetype": "text/x-python",
            "name": "python",
            "nbconvert_exporter": "python",
            "pygments_lexer": "ipython3",
            "version": "3.11.4"
        },
        "orig_nbformat": 4
    },
    "nbformat": 4,
    "nbformat_minor": 2
}
